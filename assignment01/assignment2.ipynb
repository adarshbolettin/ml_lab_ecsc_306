{
 "cells": [
  {
   "cell_type": "code",
   "execution_count": 1,
   "metadata": {},
   "outputs": [
    {
     "name": "stdout",
     "output_type": "stream",
     "text": [
      "3.99769\n",
      "-0.163856\n"
     ]
    }
   ],
   "source": [
    "import tensorflow as tf\n",
    "import numpy as np\n",
    "\n",
    "\n",
    "a=tf.constant([3,1,5.2,7.1,5.6])\n",
    "b=tf.constant([4,1,5.2,2.8,3.4])\n",
    "\n",
    "\n",
    "with tf.name_scope('mean')\n",
    "    meana=tf.reduce_mean(a)\n",
    "    meanb=tf.reduce_mean(b)\n",
    "\n",
    "with tf.name_scope('var_a')\n",
    "    vara=tf.subtract(a,meana)\n",
    "\n",
    "\n",
    "\n",
    "    varsqu=tf.square(vara)\n",
    "    varadd=tf.reduce_sum(varsqu)\n",
    "with tf.name_scope('var_b')\n",
    "\n",
    "    varb=tf.subtract(b,meanb)\n",
    "\n",
    "\n",
    "\n",
    "    varsqub=tf.square(varb)\n",
    "    varaddb=tf.reduce_sum(varsqub)\n",
    "\n",
    "\n",
    "\n",
    "with tf.name_scope('covarience')\n",
    "#cov \n",
    "\n",
    "    covari=tf.multiply(vara,varsqu)\n",
    "    covari1=tf.reduce_sum(covari)\n",
    "    covarience=tf.divide(covari1,5)\n",
    "\n",
    "#m\n",
    "\n",
    "with tf.name_scope('m_value')\n",
    "\n",
    "\n",
    "    mVal=tf.divide(covarience,varadd)\n",
    "\n",
    "\n",
    "with tf.name_scope('C_val')\n",
    "\n",
    "    #  c=mean(y)−m∗mean(x)\n",
    "\n",
    "\n",
    "    cVal=tf.multiply(mVal,meana)\n",
    "    cFinal=tf.subtract(meanb,cVal)\n",
    "\n",
    "\n",
    "\n",
    "with tf.Session() as sess:\n",
    "    writer = tf.summary.FileWriter(\"/tmp/tboard/output664444\", sess.graph)\n",
    "    print(sess.run(cFinal))\n",
    "    print(sess.run(mVal))\n",
    "    writer.close()"
   ]
  },
  {
   "cell_type": "code",
   "execution_count": null,
   "metadata": {
    "collapsed": true
   },
   "outputs": [],
   "source": []
  }
 ],
 "metadata": {
  "kernelspec": {
   "display_name": "Python 3",
   "language": "python",
   "name": "python3"
  },
  "language_info": {
   "codemirror_mode": {
    "name": "ipython",
    "version": 3
   },
   "file_extension": ".py",
   "mimetype": "text/x-python",
   "name": "python",
   "nbconvert_exporter": "python",
   "pygments_lexer": "ipython3",
   "version": "3.6.1"
  }
 },
 "nbformat": 4,
 "nbformat_minor": 2
}
