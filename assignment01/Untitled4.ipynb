{
 "cells": [
  {
   "cell_type": "code",
   "execution_count": 1,
   "metadata": {},
   "outputs": [
    {
     "name": "stdout",
     "output_type": "stream",
     "text": [
      "49\n"
     ]
    }
   ],
   "source": [
    "\n",
    "# Assignment (a+b)2=a2+b2+2ab\n",
    "\n",
    "#importing the tensor flow and numpy\n",
    "import tensorflow as tf\n",
    "import numpy as np\n",
    "\n",
    "#assigning the constant value\n",
    "a = tf.constant(2)\n",
    "b = tf.constant(5)\n",
    "asq = tf.multiply(a,a,name = \"a_sq\")\n",
    "bsq = tf.multiply(b,b,name = \"b_sq\")\n",
    "a2 = tf.multiply(2,a, name = \"2a_mult\")\n",
    "ab2 = tf.multiply(b,a2,name = \"2ab_mult\")\n",
    "result = asq + bsq + ab2\n",
    "\n",
    "#starting session to handle exception and graph\n",
    "with tf.Session() as sect:\n",
    "    writer = tf.summary.FileWriter(\"/tmp/tboard/output_homework1\",sect.graph)\n",
    "    print(sect.run(result))\n",
    "    writer.close()"
   ]
  },
  {
   "cell_type": "code",
   "execution_count": 2,
   "metadata": {},
   "outputs": [
    {
     "name": "stdout",
     "output_type": "stream",
     "text": [
      "133\n"
     ]
    }
   ],
   "source": [
    "\n",
    "\n",
    "# Assignment (a+b+c)2=a2+b2+2ab+2bc+2ca\n",
    "\n",
    "#importing the tensor flow and numpy\n",
    "import tensorflow as tf\n",
    "import numpy as np\n",
    "\n",
    "#assigning the constant value\n",
    "a = tf.constant(2)\n",
    "b = tf.constant(5)\n",
    "c = tf.constant(6)\n",
    "asq = tf.multiply(a,a,name = \"a_square\")\n",
    "bsq = tf.multiply(b,b,name = \"b_square\")\n",
    "a2 = tf.multiply(a,2,name = \"2a_multiply\")\n",
    "b2 = tf.multiply(b,2,name = \"2b_multiply\")\n",
    "c2 = tf.multiply(c,2,name = \"2c_multiply\")\n",
    "ab2 = tf.multiply(b,a2,name = \"2ab_multiply\")\n",
    "bc2 = tf.multiply(c,b2,name = \"2bc_multiply\")\n",
    "ca2 = tf.multiply(a,c2,name = \"2ac_multiply\")\n",
    "result = asq + bsq + ab2 + bc2 + ca2\n",
    "\n",
    "#starting session to handle exception and graph\n",
    "with tf.Session() as sect:\n",
    "    writer = tf.summary.FileWriter(\"/tmp/tboard/output_homework1\",sect.graph)\n",
    "    print(sect.run(result))\n",
    "    writer.close()"
   ]
  },
  {
   "cell_type": "code",
   "execution_count": null,
   "metadata": {
    "collapsed": true
   },
   "outputs": [],
   "source": []
  }
 ],
 "metadata": {
  "kernelspec": {
   "display_name": "Python 3",
   "language": "python",
   "name": "python3"
  },
  "language_info": {
   "codemirror_mode": {
    "name": "ipython",
    "version": 3
   },
   "file_extension": ".py",
   "mimetype": "text/x-python",
   "name": "python",
   "nbconvert_exporter": "python",
   "pygments_lexer": "ipython3",
   "version": "3.6.1"
  }
 },
 "nbformat": 4,
 "nbformat_minor": 2
}
