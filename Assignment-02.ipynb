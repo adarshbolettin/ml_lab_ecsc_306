{
 "cells": [
  {
   "cell_type": "code",
   "execution_count": 19,
   "metadata": {},
   "outputs": [
    {
     "name": "stdout",
     "output_type": "stream",
     "text": [
      "3.43895\n",
      "-5.65442\n"
     ]
    }
   ],
   "source": [
    "import tensorflow as tf\n",
    "import matplotlib.pyplot as plt\n",
    "import numpy as np\n",
    "\n",
    "with tf.name_scope(\"Init\"):\n",
    "    a= [1.0, 2.0, 3.0, 4.0, 5.0, 6.0, 7.6, 8.0, 9.68, 10]         \n",
    "    b = [2.0, 4.0, 6.0, 8.0, 10.0, 12.0, 15, 19, 29, 32]      \n",
    "    x = tf.constant(arrayX, name='x', dtype=tf.float32)              \n",
    "    y = tf.constant(arrayY, name='y', dtype=tf.float32)              \n",
    "\n",
    "\n",
    "with tf.name_scope(\"Mean\"):\n",
    "    meanX = tf.reduce_mean(x, [0])\n",
    "    meanY = tf.reduce_mean(y, [0]\n",
    "                           \n",
    "with tf.name_scope(\"Variance\"):\n",
    "    temp1= tf.subtract(x,meanX)\n",
    "    temp1= tf.multiply(temp1,temp1)\n",
    "    temp1= tf.reduce_sum(temp1)\n",
    "    varianceX= tf.divide(temp1, len(arrayX))\n",
    "\n",
    "    \n",
    "\n",
    "n= len(arrayX)               \n",
    "with tf.name_scope(\"Covariance\"):\n",
    "    temp1= tf.subtract(x,meanX)\n",
    "    temp2= tf.subtract(y,meanY)\n",
    "    covarianceXY = tf.reduce_sum(tf.multiply(temp1,temp2))\n",
    "    covarianceXY = tf.divide(covarianceXY, n-1)\n",
    "\n",
    "\n",
    "with tf.name_scope(\"m-VALUE\"):\n",
    "    m = tf.divide(covarianceXY,varianceX)\n",
    "\n",
    "\n",
    "with tf.name_scope(\"c_value\"):\n",
    "    c= tf.subtract(meanY,tf.multiply(m,meanX))\n",
    "\n",
    "    \n",
    "with tf.Session() as sess:\n",
    "    writer = tf.summary.FileWriter(\"/tmp/tboard/output664444\", sess.graph)\n",
    "    print(sess.run(m))\n",
    "    print(sess.run(c))\n",
    "    writer.close()"
   ]
  },
  {
   "cell_type": "code",
   "execution_count": 22,
   "metadata": {},
   "outputs": [
    {
     "data": {
      "image/png": "[encoded data removed]",
      "text/plain": [
       "<matplotlib.figure.Figure at 0x7f98587f4748>"
      ]
     },
     "metadata": {},
     "output_type": "display_data"
    }
   ],
   "source": [
    "\n",
    "\n",
    "npX= np.asarray(a)\n",
    "npY= np.asarray(b)\n",
    "\n",
    "GraphFit= np.polyfit(npX,npY,1)\n",
    "fitFunc= np.poly1d(GraphFit)      \n",
    "plt.plot(npX,npY, 'yo', npX, fitFunc(npX), '--k')                    \n",
    "plt.show()"
   ]
  },
  {
   "cell_type": "code",
   "execution_count": 23,
   "metadata": {},
   "outputs": [
    {
     "name": "stdout",
     "output_type": "stream",
     "text": [
      "10.602\n"
     ]
    }
   ],
   "source": [
    "\n",
    "\n",
    "#RMS Error\n",
    "with tf.name_scope(\"Root_Mean_Square_error\"):    \n",
    "    rmse= tf.sqrt(tf.reduce_mean(tf.squared_difference(a,b)))      \n",
    "    \n",
    "    with tf.Session() as sess:\n",
    "        print(sess.run(rmse))"
   ]
  }
 ],
 "metadata": {
  "kernelspec": {
   "display_name": "Python 3",
   "language": "python",
   "name": "python3"
  },
  "language_info": {
   "codemirror_mode": {
    "name": "ipython",
    "version": 3
   },
   "file_extension": ".py",
   "mimetype": "text/x-python",
   "name": "python",
   "nbconvert_exporter": "python",
   "pygments_lexer": "ipython3",
   "version": "3.6.1"
  }
 },
 "nbformat": 4,
 "nbformat_minor": 2
}
